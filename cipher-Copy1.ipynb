{
 "cells": [
  {
   "cell_type": "code",
   "execution_count": null,
   "metadata": {},
   "outputs": [],
   "source": [
    "lit = 'i remember too much of information'\n",
    "set(lit)"
   ]
  },
  {
   "cell_type": "code",
   "execution_count": null,
   "metadata": {},
   "outputs": [],
   "source": [
    "c = ''\n",
    "lit = ['I', 'remember', 'too', 'much']\n",
    "for i in lit:\n",
    "    c+=i\n",
    "    \n",
    "        "
   ]
  },
  {
   "cell_type": "code",
   "execution_count": null,
   "metadata": {},
   "outputs": [],
   "source": [
    "set(c)"
   ]
  },
  {
   "cell_type": "code",
   "execution_count": null,
   "metadata": {},
   "outputs": [],
   "source": [
    "l = []\n",
    "for i in c:\n",
    "    if i in l:\n",
    "        continue\n",
    "    l.append(i)"
   ]
  },
  {
   "cell_type": "code",
   "execution_count": null,
   "metadata": {},
   "outputs": [],
   "source": [
    "l"
   ]
  },
  {
   "cell_type": "code",
   "execution_count": null,
   "metadata": {},
   "outputs": [],
   "source": [
    "password = 'Basit2020'\n",
    "key = 2\n",
    "for p in password:\n",
    "    code = ord(p) + key\n",
    "    print(code, end='')"
   ]
  },
  {
   "cell_type": "code",
   "execution_count": null,
   "metadata": {},
   "outputs": [],
   "source": [
    "lit = []\n",
    "def encode():\n",
    "    password = input('Enter your password: ')\n",
    "    key = int(input('Enter your key: '))\n",
    "    for p in password:\n",
    "        code = ord(p) + key\n",
    "        lit.append(code)\n",
    "    print('\\nYour password has been encoded')\n",
    "    for i in lit:\n",
    "        print(i, end=':')\n",
    "encode()"
   ]
  },
  {
   "cell_type": "code",
   "execution_count": null,
   "metadata": {},
   "outputs": [],
   "source": [
    "def decode(hashh):\n",
    "    key = int(input('Enter your key: '))\n",
    "    for p in hashh:\n",
    "        code = chr(p - key)\n",
    "        print(code, end='')\n",
    "    print('\\nYour password has been decoded')\n",
    "decode(lit)\n",
    "    "
   ]
  },
  {
   "cell_type": "code",
   "execution_count": 9,
   "metadata": {},
   "outputs": [
    {
     "name": "stdout",
     "output_type": "stream",
     "text": [
      "Hello, what would you like to do \n",
      "1. Encrypt \n",
      "2. Decrypt \n",
      "4\n",
      "invalid input, please enter 1 to encrypt or 2 to decrypt\n"
     ]
    }
   ],
   "source": [
    "import re\n",
    "lit = []\n",
    "def encode():\n",
    "    password = input('Enter what you would like to encode: ')\n",
    "    key = int(input('Enter your key: '))\n",
    "    for p in password:\n",
    "        code = ord(p) + key\n",
    "        lit.append(code)\n",
    "    print('\\nYour password has been encoded')\n",
    "    for i in lit:\n",
    "        print(i, end=':')\n",
    "\n",
    "def decode():\n",
    "    hashh = input('Enter your hash: ')\n",
    "    key = int(input('Enter your key: '))\n",
    "    find = re.findall('[0-9]{1,3}', hashh)\n",
    "    for p in find:\n",
    "        code = chr(int(p) - key)\n",
    "        print(code, end='')\n",
    "    print('\\nYour password has been decoded')\n",
    "\n",
    "inp = input('Hello, what would you like to do \\n1. Encrypt \\n2. Decrypt \\n')\n",
    "\n",
    "if inp == '1':\n",
    "    encode()\n",
    "elif inp == '2':\n",
    "    decode()\n",
    "else:\n",
    "    print('invalid input, please enter 1 to encrypt or 2 to decrypt')\n",
    "    \n",
    "    \n",
    "    \n"
   ]
  }
 ],
 "metadata": {
  "kernelspec": {
   "display_name": "Python 3",
   "language": "python",
   "name": "python3"
  },
  "language_info": {
   "codemirror_mode": {
    "name": "ipython",
    "version": 3
   },
   "file_extension": ".py",
   "mimetype": "text/x-python",
   "name": "python",
   "nbconvert_exporter": "python",
   "pygments_lexer": "ipython3",
   "version": "3.7.4"
  }
 },
 "nbformat": 4,
 "nbformat_minor": 4
}
