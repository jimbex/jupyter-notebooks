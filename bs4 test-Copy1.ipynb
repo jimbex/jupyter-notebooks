{
 "cells": [
  {
   "cell_type": "code",
   "execution_count": 19,
   "metadata": {},
   "outputs": [
    {
     "name": "stdout",
     "output_type": "stream",
     "text": [
      "2922\n"
     ]
    }
   ],
   "source": [
    "import re\n",
    "import urllib.request, urllib.parse, urllib.error\n",
    "from bs4 import BeautifulSoup\n",
    "\n",
    "html = urllib.request.urlopen('http://py4e-data.dr-chuck.net/comments_1072440.html').read()\n",
    "soup = BeautifulSoup(html, 'html.parser')\n",
    "\n",
    "file = soup.find_all('span')\n",
    "\n",
    "total = 0\n",
    "for d in file:\n",
    "    total += int(d.text)\n",
    "print(total)"
   ]
  },
  {
   "cell_type": "code",
   "execution_count": 1,
   "metadata": {},
   "outputs": [
    {
     "name": "stdout",
     "output_type": "stream",
     "text": [
      "<html>\n",
      "<head>\n",
      "<title>Welcome to the comments assignment from www.py4e.com</title>\n",
      "</head>\n",
      "<body>\n",
      "<h1>This file contains the actual data for your assignment - good luck!</h1>\n",
      "\n",
      "<table border=\"2\">\n",
      "<tr>\n",
      "<td>Name</td><td>Comments</td>\n",
      "</tr>\n",
      "<tr><td>Hafswa</td><td><span class=\"comments\">99</span></td></tr>\n",
      "<tr><td>Machlan</td><td><span class=\"comments\">97</span></td></tr>\n",
      "<tr><td>Ashtyn</td><td><span class=\"comments\">93</span></td></tr>\n",
      "<tr><td>Leithen</td><td><span class=\"comments\">93</span></td></tr>\n",
      "<tr><td>Bully</td><td><span class=\"comments\">89</span></td></tr>\n",
      "<tr><td>Katerina</td><td><span class=\"comments\">88</span></td></tr>\n",
      "<tr><td>Komal</td><td><span class=\"comments\">88</span></td></tr>\n",
      "<tr><td>Colvin</td><td><span class=\"comments\">88</span></td></tr>\n",
      "<tr><td>Nelson</td><td><span class=\"comments\">86</span></td></tr>\n",
      "<tr><td>Eila</td><td><span class=\"comments\">86</span></td></tr>\n",
      "<tr><td>Cavan</td><td><span class=\"comments\">86</span></td></tr>\n",
      "<tr><td>Grant</td><td><span class=\"comments\">86</span></td></tr>\n",
      "<tr><td>Chase</td><td><span class=\"comments\">85</span></td></tr>\n",
      "<tr><td>Melissa</td><td><span class=\"comments\">82</span></td></tr>\n",
      "<tr><td>Bryan</td><td><span class=\"comments\">82</span></td></tr>\n",
      "<tr><td>Santino</td><td><span class=\"comments\">77</span></td></tr>\n",
      "<tr><td>Keziah</td><td><span class=\"comments\">75</span></td></tr>\n",
      "<tr><td>Kathryn</td><td><span class=\"comments\">75</span></td></tr>\n",
      "<tr><td>Cherith</td><td><span class=\"comments\">74</span></td></tr>\n",
      "<tr><td>Haghdann</td><td><span class=\"comments\">73</span></td></tr>\n",
      "<tr><td>Annelise</td><td><span class=\"comments\">73</span></td></tr>\n",
      "<tr><td>Ceren</td><td><span class=\"comments\">69</span></td></tr>\n",
      "<tr><td>Riana</td><td><span class=\"comments\">68</span></td></tr>\n",
      "<tr><td>Hibah</td><td><span class=\"comments\">66</span></td></tr>\n",
      "<tr><td>Taiwo</td><td><span class=\"comments\">63</span></td></tr>\n",
      "<tr><td>Dev</td><td><span class=\"comments\">59</span></td></tr>\n",
      "<tr><td>Trudy</td><td><span class=\"comments\">58</span></td></tr>\n",
      "<tr><td>Sunny</td><td><span class=\"comments\">58</span></td></tr>\n",
      "<tr><td>Strachan</td><td><span class=\"comments\">56</span></td></tr>\n",
      "<tr><td>Micaila</td><td><span class=\"comments\">53</span></td></tr>\n",
      "<tr><td>Charlene</td><td><span class=\"comments\">53</span></td></tr>\n",
      "<tr><td>Zuhrah</td><td><span class=\"comments\">52</span></td></tr>\n",
      "<tr><td>Modoulamin</td><td><span class=\"comments\">51</span></td></tr>\n",
      "<tr><td>Eireann</td><td><span class=\"comments\">46</span></td></tr>\n",
      "<tr><td>Keryis</td><td><span class=\"comments\">46</span></td></tr>\n",
      "<tr><td>Emilyjo</td><td><span class=\"comments\">43</span></td></tr>\n",
      "<tr><td>Zacharias</td><td><span class=\"comments\">41</span></td></tr>\n",
      "<tr><td>Cameryn</td><td><span class=\"comments\">37</span></td></tr>\n",
      "<tr><td>Kayda</td><td><span class=\"comments\">34</span></td></tr>\n",
      "<tr><td>Ifrah</td><td><span class=\"comments\">31</span></td></tr>\n",
      "<tr><td>Paige</td><td><span class=\"comments\">30</span></td></tr>\n",
      "<tr><td>Cassieleigh</td><td><span class=\"comments\">27</span></td></tr>\n",
      "<tr><td>Jaymi</td><td><span class=\"comments\">25</span></td></tr>\n",
      "<tr><td>Harriet</td><td><span class=\"comments\">19</span></td></tr>\n",
      "<tr><td>Megha</td><td><span class=\"comments\">19</span></td></tr>\n",
      "<tr><td>Coban</td><td><span class=\"comments\">17</span></td></tr>\n",
      "<tr><td>Madiha</td><td><span class=\"comments\">12</span></td></tr>\n",
      "<tr><td>Caidy</td><td><span class=\"comments\">9</span></td></tr>\n",
      "<tr><td>Daegan</td><td><span class=\"comments\">4</span></td></tr>\n",
      "<tr><td>Kayah</td><td><span class=\"comments\">1</span></td></tr>\n",
      "</table>\n",
      "</body>\n",
      "</html>\n"
     ]
    }
   ],
   "source": [
    "import urllib.request, urllib.parse, urllib.error\n",
    "\n",
    "fhand = urllib.request.urlopen('http://py4e-data.dr-chuck.net/comments_1072440.html')\n",
    "\n",
    "for line in fhand:\n",
    "    print(line.decode().strip())"
   ]
  }
 ],
 "metadata": {
  "kernelspec": {
   "display_name": "Python 3",
   "language": "python",
   "name": "python3"
  },
  "language_info": {
   "codemirror_mode": {
    "name": "ipython",
    "version": 3
   },
   "file_extension": ".py",
   "mimetype": "text/x-python",
   "name": "python",
   "nbconvert_exporter": "python",
   "pygments_lexer": "ipython3",
   "version": "3.7.4"
  }
 },
 "nbformat": 4,
 "nbformat_minor": 4
}
