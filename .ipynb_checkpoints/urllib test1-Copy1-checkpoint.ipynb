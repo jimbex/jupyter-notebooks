{
 "cells": [
  {
   "cell_type": "code",
   "execution_count": 4,
   "metadata": {},
   "outputs": [
    {
     "name": "stdout",
     "output_type": "stream",
     "text": [
      "\n",
      "Explore Plus\n",
      "Login\n",
      "Cart\n",
      "Mobiles & Accessories\n",
      "Mobiles\n",
      "Need help?Help me decide\n",
      "Home\n",
      "Mobiles & Accessories\n",
      "Mobiles\n",
      "Add to CompareSamsung Galaxy M21 (Iceberg Blue, 128 GB)4.3882 Ratings & 69 Reviews6 GB RAM | 128 GB ROM16.26 cm (6.4 inch) Display48MP Rear Camera6000 mAh Battery1 year manufacturer warranty for device and 6 months manufacturer warranty for in-box accessories including batteries from the date of purchase₹17,999No Cost EMI\n",
      "Add to CompareSamsung M31 Prime (Space Black, 128 GB)4.3168 Ratings & 24 Reviews6 GB RAM | 128 GB ROM16.26 cm (6.4 inch) Display64MP Rear Camera6000 mAh Battery1 Year₹17,177₹19,99014% offNo Cost EMI\n",
      "Add to CompareSamsung M31 Prime (IceBerg Blue, 128 GB)4.3168 Ratings & 24 Reviews6 GB RAM | 128 GB ROM16.26 cm (6.4 inch) Display64MP Rear Camera6000 mAh Battery1 Year₹17,832No Cost EMI\n",
      "Add to CompareSamsung M31 Prime (Ocean Blue, 128 GB)4.3168 Ratings & 24 Reviews6 GB RAM | 128 GB ROM16.26 cm (6.4 inch) Display64MP Rear Camera6000 mAh Battery1 Year₹17,317No Cost EMI\n",
      "Add to CompareSamsung Galaxy A21s (Silver, 128 GB)4.25,129 Ratings & 507 Reviews6 GB RAM | 128 GB ROM | Expandable Upto 512 GB16.51 cm (6.5 inch) HD+ Display48MP + 8MP + 2MP + 2MP | 13MP Front Camera5000 mAh Lithium-ion BatteryExynos 850 Octa Core Processor1 Year Manufacturer Warranty for Phone and 6 Months Warranty for in the Box Accessories₹17,499₹18,9997% offNo Cost EMIUpto ₹15,150 Off on Exchange\n",
      "Add to CompareSamsung Galaxy A21s (Blue, 128 GB)4.25,129 Ratings & 507 Reviews6 GB RAM | 128 GB ROM | Expandable Upto 512 GB16.51 cm (6.5 inch) HD+ Display48MP + 8MP + 2MP + 2MP | 13MP Front Camera5000 mAh Lithium-ion BatteryExynos 850 Octa Core Processor1 Year Manufacturer Warranty for Phone and 6 Months Warranty for in the Box Accessories₹17,499₹18,9997% offNo Cost EMIUpto ₹15,150 Off on Exchange\n",
      "Add to CompareSamsung Galaxy S20 FE (Cloud Mint, 128 GB)4.274 Ratings & 16 Reviews8 GB RAM | 128 GB ROM | Expandable Upto 1 TB16.51 cm (6.5 inch) Full HD+ Display12MP + 12MP + 8MP Rear Camera | 32MP Front Camera4500 mAh Lithium Ion BatteryExynos Octa Core ProcessorSuper AMOLED Display | 120 Hz RateIP68 Rating1 Year Warranty Provided by the Manufacturer from Date of Purchase₹40,999₹65,99937% offNo Cost EMIUpto ₹15,150 Off on Exchange\n",
      "Add to CompareSamsung Galaxy A21s (Black, 128 GB)4.25,129 Ratings & 507 Reviews6 GB RAM | 128 GB ROM | Expandable Upto 512 GB16.51 cm (6.5 inch) HD+ Display48MP + 8MP + 2MP + 2MP | 13MP Front Camera5000 mAh Lithium-ion BatteryExynos 850 Octa Core Processor1 Year Manufacturer Warranty for Phone and 6 Months Warranty for in the Box Accessories₹17,499₹18,9997% offNo Cost EMIUpto ₹15,150 Off on Exchange\n",
      "Add to CompareSamsung Galaxy S20 FE (Cloud Navy, 128 GB)4.274 Ratings & 16 Reviews8 GB RAM | 128 GB ROM | Expandable Upto 1 TB16.51 cm (6.5 inch) Full HD+ Display12MP + 12MP + 8MP Rear Camera | 32MP Front Camera4500 mAh Lithium Ion BatteryExynos Octa Core ProcessorSuper AMOLED Display | 120 Hz RateIP68 Rating1 Year Warranty Provided by the Manufacturer from Date of Purchase₹40,999₹65,99937% offNo Cost EMIUpto ₹15,150 Off on Exchange\n",
      "Add to CompareSamsung Galaxy S20 FE (Cloud Red, 128 GB)4.274 Ratings & 16 Reviews8 GB RAM | 128 GB ROM | Expandable Upto 1 TB16.51 cm (6.5 inch) Full HD+ Display12MP + 12MP + 8MP Rear Camera | 32MP Front Camera4500 mAh Lithium Ion BatteryExynos Octa Core ProcessorSuper AMOLED Display | 120 Hz RateIP68 Rating1 Year Warranty Provided by the Manufacturer from Date of Purchase₹40,999₹65,99937% offNo Cost EMIUpto ₹15,150 Off on Exchange\n",
      "Add to CompareSamsung Galaxy S20 FE (Cloud Lavender, 128 GB)4.274 Ratings & 16 Reviews8 GB RAM | 128 GB ROM | Expandable Upto 1 TB16.51 cm (6.5 inch) Full HD+ Display12MP + 12MP + 8MP Rear Camera | 32MP Front Camera4500 mAh Lithium Ion BatteryExynos Octa Core ProcessorSuper AMOLED Display | 120 Hz RateIP68 Rating1 Year Warranty Provided by the Manufacturer from Date of Purchase₹40,999₹65,99937% offNo Cost EMIUpto ₹15,150 Off on Exchange\n",
      "Add to CompareSamsung Galaxy S20 FE (Cloud White, 128 GB)4.274 Ratings & 16 Reviews8 GB RAM | 128 GB ROM | Expandable Upto 1 TB16.51 cm (6.5 inch) Full HD+ Display12MP + 12MP + 8MP Rear Camera | 32MP Front Camera4500 mAh Lithium Ion BatteryExynos Octa Core ProcessorSuper AMOLED Display | 120 Hz RateIP68 Rating1 Year Warranty Provided by the Manufacturer from Date of Purchase₹40,999₹65,99937% offNo Cost EMIUpto ₹15,150 Off on Exchange\n",
      "Add to CompareSamsung GALAXY M51 (ELECTRIC BLUE, 128 GB)4.3249 Ratings & 15 Reviews6 GB RAM | 128 GB ROM17.02 cm (6.7 inch) Display64MP Rear Camera7000 mAh BatteryONE YEAR COMPANY WARRANTY₹25,898No Cost EMI\n",
      "Add to CompareSamsung Galaxy F41 (Fusion Green, 64 GB)4.31,54,595 Ratings & 20,288 Reviews6 GB RAM | 64 GB ROM | Expandable Upto 512 GB16.26 cm (6.4 inch) Full HD+ Display64MP + 8MP + 5MP | 32MP Front Camera6000 mAh Lithium-ion BatteryExynos Octa Core ProcessorSuper AMOLED Display1 Year Warranty Provided by the Manufacturer from Date of Purchase₹15,499₹19,99922% offNo Cost EMIUpto ₹14,450 Off on Exchange\n",
      "Add to CompareSamsung Galaxy F41 (Fusion Green, 128 GB)4.31,54,595 Ratings & 20,288 Reviews6 GB RAM | 128 GB ROM | Expandable Upto 512 GB16.26 cm (6.4 inch) Full HD+ Display64MP + 8MP + 5MP | 32MP Front Camera6000 mAh Lithium-ion BatteryExynos Octa Core ProcessorSuper AMOLED Display1 Year Warranty Provided by the Manufacturer from Date of Purchase₹16,499₹20,99921% offNo Cost EMIUpto ₹15,150 Off on Exchange\n",
      "Add to CompareSamsung Galaxy F41 (Fusion Blue, 128 GB)4.31,54,595 Ratings & 20,288 Reviews6 GB RAM | 128 GB ROM | Expandable Upto 512 GB16.26 cm (6.4 inch) Full HD+ Display64MP + 8MP + 5MP | 32MP Front Camera6000 mAh Lithium-ion BatteryExynos Octa Core ProcessorSuper AMOLED Display1 Year Warranty Provided by the Manufacturer from Date of Purchase₹16,499₹20,99921% offNo Cost EMIUpto ₹15,150 Off on Exchange\n",
      "Add to CompareSamsung Galaxy F41 (Fusion Black, 64 GB)4.31,54,595 Ratings & 20,288 Reviews6 GB RAM | 64 GB ROM | Expandable Upto 512 GB16.26 cm (6.4 inch) Full HD+ Display64MP + 8MP + 5MP | 32MP Front Camera6000 mAh Lithium-ion BatteryExynos Octa Core ProcessorSuper AMOLED Display1 Year Warranty Provided by the Manufacturer from Date of Purchase₹15,499₹19,99922% offNo Cost EMIUpto ₹14,450 Off on Exchange\n",
      "Add to CompareSamsung Galaxy F41 (Fusion Blue, 64 GB)4.31,54,595 Ratings & 20,288 Reviews6 GB RAM | 64 GB ROM | Expandable Upto 512 GB16.26 cm (6.4 inch) Full HD+ Display64MP + 8MP + 5MP | 32MP Front Camera6000 mAh Lithium-ion BatteryExynos Octa Core ProcessorSuper AMOLED Display1 Year Warranty Provided by the Manufacturer from Date of Purchase₹15,499₹19,99922% offNo Cost EMIUpto ₹14,450 Off on Exchange\n",
      "Add to CompareSamsung Galaxy F41 (Fusion Black, 128 GB)4.31,54,595 Ratings & 20,288 Reviews6 GB RAM | 128 GB ROM | Expandable Upto 512 GB16.26 cm (6.4 inch) Full HD+ Display64MP + 8MP + 5MP | 32MP Front Camera6000 mAh Lithium-ion BatteryExynos Octa Core ProcessorSuper AMOLED Display1 Year Warranty Provided by the Manufacturer from Date of Purchase₹16,499₹20,99921% offNo Cost EMIUpto ₹15,150 Off on Exchange\n",
      "Add to CompareSamsung Galaxy M31s (Mirage Black, 128 GB)4.3317 Ratings & 25 Reviews6 GB RAM | 128 GB ROM16.51 cm (6.5 inch) Display64MP Rear Camera6000 mAh Battery1 YEAR₹19,990\n",
      "Add to CompareSamsung Galaxy M31s (Mirage Blue, 128 GB)4.3317 Ratings & 25 Reviews6 GB RAM | 128 GB ROM16.51 cm (6.5 inch) Display64MP Rear Camera6000 mAh Battery1 YEAR₹20,378₹21,9997% offNo Cost EMI\n",
      "Add to CompareSamsung Galaxy M31 (Ocean Blue, 128 GB)4.1102 Ratings & 3 Reviews8 GB RAM | 128 GB ROM | Expandable Upto 512 GB16.26 cm (6.4 inch) Full HD+ Display64MP + 8MP + 5MP + 5MP | 32MP Front Camera6000 mAh BatterySamsung Exynos 9 Octa 9611 Processor1 year₹19,749₹20,7985% offNo Cost EMI\n",
      "Add to CompareSamsung Galaxy M31 (Space Black, 128 GB)4.1102 Ratings & 3 Reviews8 GB RAM | 128 GB ROM | Expandable Upto 512 GB16.26 cm (6.4 inch) Full HD+ Display64MP + 8MP + 5MP + 5MP | 32MP Front Camera6000 mAh BatterySamsung Exynos 9 Octa 9611 Processor1 year₹20,689No Cost EMI\n",
      "Add to CompareSamsung Galaxy Note 20 (Mystic Blue, 256 GB)4.657 Ratings & 6 Reviews8 GB RAM | 256 GB ROM17.02 cm (6.7 inch) Full HD+ Display64MP + 12MP + 12MP | 10MP Front Camera4300 mAh Lithium-ion BatteryExynos Octa Core Processor1 Year Warranty Provided by the Manufacturer from Date of Purchase₹77,999₹86,0009% offNo Cost EMIUpto ₹23,750 Off on Exchange\n",
      "1\n",
      "2\n",
      "3\n",
      "4\n",
      "5\n",
      "6\n",
      "7\n",
      "8\n",
      "9\n",
      "10\n",
      "Next\n",
      "Contact Us\n",
      "About Us\n",
      "Careers\n",
      "Flipkart Stories\n",
      "Press\n",
      "Flipkart Wholesale\n",
      "Payments\n",
      "Shipping\n",
      "Cancellation & Returns\n",
      "FAQ\n",
      "Report Infringement\n",
      "Return Policy\n",
      "Terms Of Use\n",
      "Security\n",
      "Privacy\n",
      "Sitemap\n",
      "EPR Compliance\n",
      "Facebook\n",
      "Twitter\n",
      "YouTube\n",
      "1800 202 9898\n",
      "Sell On Flipkart\n",
      "Advertise\n",
      "Gift Cards\n",
      "Help Center\n"
     ]
    }
   ],
   "source": [
    "import urllib.request\n",
    "from bs4 import BeautifulSoup as bs\n",
    "import ssl\n",
    "\n",
    "pot = ''\n",
    "ctx = ssl.create_default_context()\n",
    "ctx.check_hostname = False\n",
    "ctx.verify_mode = ssl.CERT_NONE\n",
    "\n",
    "htm = urllib.request.urlopen('https://www.flipkart.com/search?p%5B%5D=facets.brand%255B%255D%3DSamsung&sid=tyy%2F4io&sort=recency_desc&wid=1.productCard.PMU_V2_1', context=ctx).read()\n",
    "soup = bs(htm, 'html.parser')\n",
    "tag = soup('a')\n",
    "for t in tag:\n",
    "    b = t.text\n",
    "    pot += b\n",
    "    print(b)"
   ]
  },
  {
   "cell_type": "code",
   "execution_count": 29,
   "metadata": {},
   "outputs": [],
   "source": [
    "import urllib.request, urllib.parse, urllib.error\n",
    "from bs4 import BeautifulSoup as bs\n",
    "import ssl\n",
    "\n",
    "ctx = ssl.create_default_context()\n",
    "ctx.check_hostname = False\n",
    "ctx.verify_mode = ssl.CERT_NONE\n",
    "\n",
    "l = []\n",
    "\n",
    "htm = urllib.request.urlopen('https://www.webscraper.io/test-sites/tables', context=ctx).read()\n",
    "soup = bs(htm, 'html.parser')\n",
    "tag = soup('tbody')\n",
    "\n",
    "for t in tag:\n",
    "    nam = t.text\n",
    "    l.append(nam.split())\n",
    "        "
   ]
  },
  {
   "cell_type": "code",
   "execution_count": 31,
   "metadata": {},
   "outputs": [
    {
     "name": "stdout",
     "output_type": "stream",
     "text": [
      "['1', 'Mark', 'Otto', '@mdo', '2', 'Jacob', 'Thornton', '@fat', '3', 'Larry', 'the', 'Bird', '@twitter']\n",
      "['4', 'Harry', 'Potter', '@hp', '5', 'John', 'Snow', '@dunno', '6', 'Tim', 'Bean', '@timbean']\n",
      "['#', 'First', 'Name', 'Last', 'Name', 'Username', '1', 'Mark', 'Otto', '@mdo', '2', 'Jacob', 'Thornton', '@fat', '3', 'Larry', 'the', 'Bird', '@twitter']\n",
      "['Person', 'User', 'data', '#', 'First', 'Name', 'Last', 'Name', 'Username', '-', '-', '-', '-', '1', 'Mark', 'Otto', '@mdo', '2', 'Jacob', 'Thornton', '@fat', '3', 'Larry', 'the', 'Bird', '@twitter']\n"
     ]
    }
   ],
   "source": [
    "for x in l:\n",
    "    print(x)"
   ]
  },
  {
   "cell_type": "code",
   "execution_count": 5,
   "metadata": {},
   "outputs": [
    {
     "data": {
      "text/plain": [
       "'Explore PlusLoginCartMobiles & AccessoriesMobilesNeed help?Help me decideHomeMobiles & AccessoriesMobilesAdd to CompareSamsung Galaxy M21 (Iceberg Blue, 128 GB)4.3882 Ratings\\xa0&\\xa069 Reviews6 GB RAM | 128 GB ROM16.26 cm (6.4 inch) Display48MP Rear Camera6000 mAh Battery1 year manufacturer warranty for device and 6 months manufacturer warranty for in-box accessories including batteries from the date of purchase₹17,999No Cost EMIAdd to CompareSamsung M31 Prime (Space Black, 128 GB)4.3168 Ratings\\xa0&\\xa024 Reviews6 GB RAM | 128 GB ROM16.26 cm (6.4 inch) Display64MP Rear Camera6000 mAh Battery1 Year₹17,177₹19,99014% offNo Cost EMIAdd to CompareSamsung M31 Prime (IceBerg Blue, 128 GB)4.3168 Ratings\\xa0&\\xa024 Reviews6 GB RAM | 128 GB ROM16.26 cm (6.4 inch) Display64MP Rear Camera6000 mAh Battery1 Year₹17,832No Cost EMIAdd to CompareSamsung M31 Prime (Ocean Blue, 128 GB)4.3168 Ratings\\xa0&\\xa024 Reviews6 GB RAM | 128 GB ROM16.26 cm (6.4 inch) Display64MP Rear Camera6000 mAh Battery1 Year₹17,317No Cost EMIAdd to CompareSamsung Galaxy A21s (Silver, 128 GB)4.25,129 Ratings\\xa0&\\xa0507 Reviews6 GB RAM | 128 GB ROM | Expandable Upto 512 GB16.51 cm (6.5 inch) HD+ Display48MP + 8MP + 2MP + 2MP | 13MP Front Camera5000 mAh Lithium-ion BatteryExynos 850 Octa Core Processor1 Year Manufacturer Warranty for Phone and 6 Months Warranty for in the Box Accessories₹17,499₹18,9997% offNo Cost EMIUpto ₹15,150 Off on ExchangeAdd to CompareSamsung Galaxy A21s (Blue, 128 GB)4.25,129 Ratings\\xa0&\\xa0507 Reviews6 GB RAM | 128 GB ROM | Expandable Upto 512 GB16.51 cm (6.5 inch) HD+ Display48MP + 8MP + 2MP + 2MP | 13MP Front Camera5000 mAh Lithium-ion BatteryExynos 850 Octa Core Processor1 Year Manufacturer Warranty for Phone and 6 Months Warranty for in the Box Accessories₹17,499₹18,9997% offNo Cost EMIUpto ₹15,150 Off on ExchangeAdd to CompareSamsung Galaxy S20 FE (Cloud Mint, 128 GB)4.274 Ratings\\xa0&\\xa016 Reviews8 GB RAM | 128 GB ROM | Expandable Upto 1 TB16.51 cm (6.5 inch) Full HD+ Display12MP + 12MP + 8MP Rear Camera | 32MP Front Camera4500 mAh Lithium Ion BatteryExynos Octa Core ProcessorSuper AMOLED Display | 120 Hz RateIP68 Rating1 Year Warranty Provided by the Manufacturer from Date of Purchase₹40,999₹65,99937% offNo Cost EMIUpto ₹15,150 Off on ExchangeAdd to CompareSamsung Galaxy A21s (Black, 128 GB)4.25,129 Ratings\\xa0&\\xa0507 Reviews6 GB RAM | 128 GB ROM | Expandable Upto 512 GB16.51 cm (6.5 inch) HD+ Display48MP + 8MP + 2MP + 2MP | 13MP Front Camera5000 mAh Lithium-ion BatteryExynos 850 Octa Core Processor1 Year Manufacturer Warranty for Phone and 6 Months Warranty for in the Box Accessories₹17,499₹18,9997% offNo Cost EMIUpto ₹15,150 Off on ExchangeAdd to CompareSamsung Galaxy S20 FE (Cloud Navy, 128 GB)4.274 Ratings\\xa0&\\xa016 Reviews8 GB RAM | 128 GB ROM | Expandable Upto 1 TB16.51 cm (6.5 inch) Full HD+ Display12MP + 12MP + 8MP Rear Camera | 32MP Front Camera4500 mAh Lithium Ion BatteryExynos Octa Core ProcessorSuper AMOLED Display | 120 Hz RateIP68 Rating1 Year Warranty Provided by the Manufacturer from Date of Purchase₹40,999₹65,99937% offNo Cost EMIUpto ₹15,150 Off on ExchangeAdd to CompareSamsung Galaxy S20 FE (Cloud Red, 128 GB)4.274 Ratings\\xa0&\\xa016 Reviews8 GB RAM | 128 GB ROM | Expandable Upto 1 TB16.51 cm (6.5 inch) Full HD+ Display12MP + 12MP + 8MP Rear Camera | 32MP Front Camera4500 mAh Lithium Ion BatteryExynos Octa Core ProcessorSuper AMOLED Display | 120 Hz RateIP68 Rating1 Year Warranty Provided by the Manufacturer from Date of Purchase₹40,999₹65,99937% offNo Cost EMIUpto ₹15,150 Off on ExchangeAdd to CompareSamsung Galaxy S20 FE (Cloud Lavender, 128 GB)4.274 Ratings\\xa0&\\xa016 Reviews8 GB RAM | 128 GB ROM | Expandable Upto 1 TB16.51 cm (6.5 inch) Full HD+ Display12MP + 12MP + 8MP Rear Camera | 32MP Front Camera4500 mAh Lithium Ion BatteryExynos Octa Core ProcessorSuper AMOLED Display | 120 Hz RateIP68 Rating1 Year Warranty Provided by the Manufacturer from Date of Purchase₹40,999₹65,99937% offNo Cost EMIUpto ₹15,150 Off on ExchangeAdd to CompareSamsung Galaxy S20 FE (Cloud White, 128 GB)4.274 Ratings\\xa0&\\xa016 Reviews8 GB RAM | 128 GB ROM | Expandable Upto 1 TB16.51 cm (6.5 inch) Full HD+ Display12MP + 12MP + 8MP Rear Camera | 32MP Front Camera4500 mAh Lithium Ion BatteryExynos Octa Core ProcessorSuper AMOLED Display | 120 Hz RateIP68 Rating1 Year Warranty Provided by the Manufacturer from Date of Purchase₹40,999₹65,99937% offNo Cost EMIUpto ₹15,150 Off on ExchangeAdd to CompareSamsung GALAXY M51 (ELECTRIC BLUE, 128 GB)4.3249 Ratings\\xa0&\\xa015 Reviews6 GB RAM | 128 GB ROM17.02 cm (6.7 inch) Display64MP Rear Camera7000 mAh BatteryONE YEAR COMPANY WARRANTY₹25,898No Cost EMIAdd to CompareSamsung Galaxy F41 (Fusion Green, 64 GB)4.31,54,595 Ratings\\xa0&\\xa020,288 Reviews6 GB RAM | 64 GB ROM | Expandable Upto 512 GB16.26 cm (6.4 inch) Full HD+ Display64MP + 8MP + 5MP | 32MP Front Camera6000 mAh Lithium-ion BatteryExynos Octa Core ProcessorSuper AMOLED Display1 Year Warranty Provided by the Manufacturer from Date of Purchase₹15,499₹19,99922% offNo Cost EMIUpto ₹14,450 Off on ExchangeAdd to CompareSamsung Galaxy F41 (Fusion Green, 128 GB)4.31,54,595 Ratings\\xa0&\\xa020,288 Reviews6 GB RAM | 128 GB ROM | Expandable Upto 512 GB16.26 cm (6.4 inch) Full HD+ Display64MP + 8MP + 5MP | 32MP Front Camera6000 mAh Lithium-ion BatteryExynos Octa Core ProcessorSuper AMOLED Display1 Year Warranty Provided by the Manufacturer from Date of Purchase₹16,499₹20,99921% offNo Cost EMIUpto ₹15,150 Off on ExchangeAdd to CompareSamsung Galaxy F41 (Fusion Blue, 128 GB)4.31,54,595 Ratings\\xa0&\\xa020,288 Reviews6 GB RAM | 128 GB ROM | Expandable Upto 512 GB16.26 cm (6.4 inch) Full HD+ Display64MP + 8MP + 5MP | 32MP Front Camera6000 mAh Lithium-ion BatteryExynos Octa Core ProcessorSuper AMOLED Display1 Year Warranty Provided by the Manufacturer from Date of Purchase₹16,499₹20,99921% offNo Cost EMIUpto ₹15,150 Off on ExchangeAdd to CompareSamsung Galaxy F41 (Fusion Black, 64 GB)4.31,54,595 Ratings\\xa0&\\xa020,288 Reviews6 GB RAM | 64 GB ROM | Expandable Upto 512 GB16.26 cm (6.4 inch) Full HD+ Display64MP + 8MP + 5MP | 32MP Front Camera6000 mAh Lithium-ion BatteryExynos Octa Core ProcessorSuper AMOLED Display1 Year Warranty Provided by the Manufacturer from Date of Purchase₹15,499₹19,99922% offNo Cost EMIUpto ₹14,450 Off on ExchangeAdd to CompareSamsung Galaxy F41 (Fusion Blue, 64 GB)4.31,54,595 Ratings\\xa0&\\xa020,288 Reviews6 GB RAM | 64 GB ROM | Expandable Upto 512 GB16.26 cm (6.4 inch) Full HD+ Display64MP + 8MP + 5MP | 32MP Front Camera6000 mAh Lithium-ion BatteryExynos Octa Core ProcessorSuper AMOLED Display1 Year Warranty Provided by the Manufacturer from Date of Purchase₹15,499₹19,99922% offNo Cost EMIUpto ₹14,450 Off on ExchangeAdd to CompareSamsung Galaxy F41 (Fusion Black, 128 GB)4.31,54,595 Ratings\\xa0&\\xa020,288 Reviews6 GB RAM | 128 GB ROM | Expandable Upto 512 GB16.26 cm (6.4 inch) Full HD+ Display64MP + 8MP + 5MP | 32MP Front Camera6000 mAh Lithium-ion BatteryExynos Octa Core ProcessorSuper AMOLED Display1 Year Warranty Provided by the Manufacturer from Date of Purchase₹16,499₹20,99921% offNo Cost EMIUpto ₹15,150 Off on ExchangeAdd to CompareSamsung Galaxy M31s (Mirage Black, 128 GB)4.3317 Ratings\\xa0&\\xa025 Reviews6 GB RAM | 128 GB ROM16.51 cm (6.5 inch) Display64MP Rear Camera6000 mAh Battery1 YEAR₹19,990Add to CompareSamsung Galaxy M31s (Mirage Blue, 128 GB)4.3317 Ratings\\xa0&\\xa025 Reviews6 GB RAM | 128 GB ROM16.51 cm (6.5 inch) Display64MP Rear Camera6000 mAh Battery1 YEAR₹20,378₹21,9997% offNo Cost EMIAdd to CompareSamsung Galaxy M31 (Ocean Blue, 128 GB)4.1102 Ratings\\xa0&\\xa03 Reviews8 GB RAM | 128 GB ROM | Expandable Upto 512 GB16.26 cm (6.4 inch) Full HD+ Display64MP + 8MP + 5MP + 5MP | 32MP Front Camera6000 mAh BatterySamsung Exynos 9 Octa 9611 Processor1 year₹19,749₹20,7985% offNo Cost EMIAdd to CompareSamsung Galaxy M31 (Space Black, 128 GB)4.1102 Ratings\\xa0&\\xa03 Reviews8 GB RAM | 128 GB ROM | Expandable Upto 512 GB16.26 cm (6.4 inch) Full HD+ Display64MP + 8MP + 5MP + 5MP | 32MP Front Camera6000 mAh BatterySamsung Exynos 9 Octa 9611 Processor1 year₹20,689No Cost EMIAdd to CompareSamsung Galaxy Note 20 (Mystic Blue, 256 GB)4.657 Ratings\\xa0&\\xa06 Reviews8 GB RAM | 256 GB ROM17.02 cm (6.7 inch) Full HD+ Display64MP + 12MP + 12MP | 10MP Front Camera4300 mAh Lithium-ion BatteryExynos Octa Core Processor1 Year Warranty Provided by the Manufacturer from Date of Purchase₹77,999₹86,0009% offNo Cost EMIUpto ₹23,750 Off on Exchange12345678910NextContact UsAbout UsCareersFlipkart StoriesPressFlipkart WholesalePaymentsShippingCancellation & ReturnsFAQReport InfringementReturn PolicyTerms Of UseSecurityPrivacySitemapEPR ComplianceFacebookTwitterYouTube1800 202 9898Sell On FlipkartAdvertiseGift CardsHelp Center'"
      ]
     },
     "execution_count": 5,
     "metadata": {},
     "output_type": "execute_result"
    }
   ],
   "source": [
    "pot "
   ]
  },
  {
   "cell_type": "code",
   "execution_count": 9,
   "metadata": {},
   "outputs": [
    {
     "data": {
      "text/plain": [
       "['Samsung Galaxy M21',\n",
       " 'Samsung M31',\n",
       " 'Samsung M31',\n",
       " 'Samsung M31',\n",
       " 'Samsung Galaxy A21',\n",
       " 'Samsung Galaxy A21',\n",
       " 'Samsung Galaxy S20',\n",
       " 'Samsung Galaxy A21',\n",
       " 'Samsung Galaxy S20',\n",
       " 'Samsung Galaxy S20',\n",
       " 'Samsung Galaxy S20',\n",
       " 'Samsung Galaxy S20',\n",
       " 'Samsung GALAXY M51',\n",
       " 'Samsung Galaxy F41',\n",
       " 'Samsung Galaxy F41',\n",
       " 'Samsung Galaxy F41',\n",
       " 'Samsung Galaxy F41',\n",
       " 'Samsung Galaxy F41',\n",
       " 'Samsung Galaxy F41',\n",
       " 'Samsung Galaxy M31',\n",
       " 'Samsung Galaxy M31',\n",
       " 'Samsung Galaxy M31',\n",
       " 'Samsung Exynos 9',\n",
       " 'Samsung Galaxy M31',\n",
       " 'Samsung Exynos 9',\n",
       " 'Samsung Galaxy Note 20']"
      ]
     },
     "execution_count": 9,
     "metadata": {},
     "output_type": "execute_result"
    }
   ],
   "source": [
    "import re\n",
    "re.findall('Samsung.+?[0-9]{1,5}', pot)"
   ]
  }
 ],
 "metadata": {
  "kernelspec": {
   "display_name": "Python 3",
   "language": "python",
   "name": "python3"
  },
  "language_info": {
   "codemirror_mode": {
    "name": "ipython",
    "version": 3
   },
   "file_extension": ".py",
   "mimetype": "text/x-python",
   "name": "python",
   "nbconvert_exporter": "python",
   "pygments_lexer": "ipython3",
   "version": "3.7.4"
  }
 },
 "nbformat": 4,
 "nbformat_minor": 4
}
