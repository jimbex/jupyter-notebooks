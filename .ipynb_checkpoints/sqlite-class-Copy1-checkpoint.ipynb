{
 "cells": [
  {
   "cell_type": "code",
   "execution_count": null,
   "metadata": {},
   "outputs": [],
   "source": [
    "import sqlite3\n",
    "conn = sqlite3.connect('class1.sqlite')\n",
    "cur = conn.cursor()\n",
    "\n",
    "cur.execute()\n",
    "conn.commit()\n"
   ]
  },
  {
   "cell_type": "code",
   "execution_count": null,
   "metadata": {},
   "outputs": [],
   "source": [
    "import sqlite3\n",
    "conn = sqlite3.connect('class1.sqlite')\n",
    "cur = conn.cursor()\n",
    "\n",
    "cur.execute('Create Table class1(Name varchar(50), grade int)')\n",
    "conn.commit()"
   ]
  },
  {
   "cell_type": "code",
   "execution_count": null,
   "metadata": {},
   "outputs": [],
   "source": [
    "names = ['basit', 'willy', 'philip', 'mike', 'domo']\n",
    "grades = [100, 30, 40, 60, 20]"
   ]
  },
  {
   "cell_type": "code",
   "execution_count": null,
   "metadata": {},
   "outputs": [],
   "source": [
    "import sqlite3\n",
    "conn = sqlite3.connect('C:\\\\Users\\\\USER\\\\Desktop\\\\class1.sqlite')\n",
    "cur = conn.cursor()\n",
    "\n",
    "names = ['basit', 'willy', 'philip', 'mike', 'domo']\n",
    "grades = [100, 30, 40, 60, 20]\n",
    "y = 0\n",
    "for y in range(5):\n",
    "    cur.execute('''Insert into class1(Name, grade) \n",
    "                values(?, ?)''', (names[y], grades[y]))\n",
    "    y+=1\n",
    "conn.commit()"
   ]
  },
  {
   "cell_type": "code",
   "execution_count": null,
   "metadata": {},
   "outputs": [],
   "source": [
    "import sqlite3\n",
    "conn = sqlite3.connect('C:\\\\Users\\\\USER\\\\Desktop\\\\class1.sqlite')\n",
    "cur = conn.cursor()\n",
    "\n",
    "y = {}\n",
    "names = ['basit', 'willy', 'philip', 'mike', 'domo']\n",
    "grades = [100, 30, 40, 60, 20]\n",
    "x =0\n",
    "for x in range(5):\n",
    "    y[names[x]] = grades[x]\n",
    "    x+=1\n",
    "print(y)\n"
   ]
  },
  {
   "cell_type": "code",
   "execution_count": null,
   "metadata": {},
   "outputs": [],
   "source": [
    "import sqlite3\n",
    "conn = sqlite3.connect('C:\\\\Users\\\\USER\\\\Desktop\\\\class1.sqlite')\n",
    "cur = conn.cursor()\n",
    "\n",
    "x= 0\n",
    "for a, b in y.items():\n",
    "    cur.execute('''Insert into class1(Name, grade) \n",
    "                values(?, ?)''', (a, b))\n",
    "\n",
    "conn.commit()\n",
    "    "
   ]
  }
 ],
 "metadata": {
  "kernelspec": {
   "display_name": "Python 3",
   "language": "python",
   "name": "python3"
  },
  "language_info": {
   "codemirror_mode": {
    "name": "ipython",
    "version": 3
   },
   "file_extension": ".py",
   "mimetype": "text/x-python",
   "name": "python",
   "nbconvert_exporter": "python",
   "pygments_lexer": "ipython3",
   "version": "3.7.4"
  }
 },
 "nbformat": 4,
 "nbformat_minor": 4
}
