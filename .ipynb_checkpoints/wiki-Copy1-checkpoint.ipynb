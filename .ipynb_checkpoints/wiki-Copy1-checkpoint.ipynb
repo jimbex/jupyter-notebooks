{
 "cells": [
  {
   "cell_type": "code",
   "execution_count": null,
   "metadata": {},
   "outputs": [],
   "source": [
    "# importing the module \n",
    "import wikipedia  \n",
    "  \n",
    "# finding result for the search \n",
    "# sentences = 2 refers to numbers of line \n",
    "result = wikipedia.summary(\"life\", sentences = 2)  \n",
    "  \n",
    "# printing the result \n",
    "print(result)  "
   ]
  },
  {
   "cell_type": "code",
   "execution_count": 9,
   "metadata": {},
   "outputs": [
    {
     "name": "stdout",
     "output_type": "stream",
     "text": [
      "['Life', 'Life (disambiguation)', 'Lithium iron phosphate battery', 'For Life', 'Life Is Life']\n"
     ]
    }
   ],
   "source": [
    "# getting suggestions \n",
    "result = wikipedia.search(\"life\", results = 5) \n",
    "  \n",
    "# printing the result \n",
    "print(result)"
   ]
  },
  {
   "cell_type": "code",
   "execution_count": 12,
   "metadata": {},
   "outputs": [
    {
     "name": "stdout",
     "output_type": "stream",
     "text": [
      "L'Inde (en hindi : भारत / Bhārat), en forme longue la république de l'Inde (en hindi : भारत गणराज्य / Bhārat Gaṇarājya), est un pays d'Asie du Sud qui occupe la majeure partie du sous-continent indien. Sa capitale est New Delhi.\n"
     ]
    }
   ],
   "source": [
    "# importing the module \n",
    "import wikipedia \n",
    "  \n",
    "# setting language to hindi \n",
    "wikipedia.set_lang(\"fr\") \n",
    "  \n",
    "# printing the summary \n",
    "print(wikipedia.summary(\"India\", sentences = 2))"
   ]
  }
 ],
 "metadata": {
  "kernelspec": {
   "display_name": "Python 3",
   "language": "python",
   "name": "python3"
  },
  "language_info": {
   "codemirror_mode": {
    "name": "ipython",
    "version": 3
   },
   "file_extension": ".py",
   "mimetype": "text/x-python",
   "name": "python",
   "nbconvert_exporter": "python",
   "pygments_lexer": "ipython3",
   "version": "3.7.4"
  }
 },
 "nbformat": 4,
 "nbformat_minor": 4
}
