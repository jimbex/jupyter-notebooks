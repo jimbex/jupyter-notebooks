{
 "cells": [
  {
   "cell_type": "code",
   "execution_count": 1,
   "metadata": {},
   "outputs": [],
   "source": [
    "import speech_recognition as sr #convert speech to text\n",
    "import wikipedia\n",
    "import win32com.client as wincl"
   ]
  },
  {
   "cell_type": "code",
   "execution_count": 11,
   "metadata": {},
   "outputs": [],
   "source": [
    "class wik():\n",
    "    def __init__(self, data = ''):\n",
    "        self.data = data\n",
    "    def mic(self):\n",
    "        i=sr.Recognizer()\n",
    "        r = sr.Microphone()\n",
    "        with r as source:\n",
    "            i.adjust_for_ambient_noise(source)\n",
    "            audio=i.listen(source)\n",
    "        try:\n",
    "            self.data=i.recognize_google(audio)\n",
    "        except:\n",
    "            self.data=i.recognize_sphinx(audio)\n",
    "        self.data=self.data.split()\n",
    "    def me(self):\n",
    "        return self.data[-1]"
   ]
  },
  {
   "cell_type": "code",
   "execution_count": null,
   "metadata": {},
   "outputs": [],
   "source": [
    "p = wik()\n",
    "speak = wincl.Dispatch(\"SAPI.SpVoice\")\n",
    "speak.Speak(\"Hello, Welcome. My name is Oracle, what should I call you\")\n",
    "count = 0\n",
    "while True:\n",
    "    if count == 3:\n",
    "        name = 'human'\n",
    "        speak.Speak(\"I cant get your name so I will just call you \" + name)\n",
    "        break\n",
    "    p.mic()\n",
    "    speak.Speak(\"Your name is \" + p.me() + ' did I get that right')\n",
    "    p.mic()\n",
    "    name = p.me()\n",
    "    if p.me() == 'yes':\n",
    "        break \n",
    "    elif p.me() == 'no':\n",
    "        speak.Speak(\"can you please repeat your name\")\n",
    "    else:\n",
    "        speak.Speak(\"Invalid answer, can you please repeat your name\")\n",
    "    speak.Speak(\"Didn't get you that time, can you please try again\")\n",
    "    conunt += 1\n",
    "        \n",
    "speak.Speak(\"Hi \" + name + ' Can you say the word you would like to search for')\n",
    "p.mic()\n",
    "result = wikipedia.summary(p.me(), sentences = 3)  \n",
    "speak.Speak(result)\n",
    "\n",
    "    \n",
    "\n",
    "\n",
    "\n"
   ]
  },
  {
   "cell_type": "code",
   "execution_count": 25,
   "metadata": {},
   "outputs": [
    {
     "name": "stdout",
     "output_type": "stream",
     "text": [
      "['my', 'name', 'is', 'mast']\n"
     ]
    }
   ],
   "source": [
    "c = 'my name is mast'\n",
    "c = c.split()\n",
    "print(c)"
   ]
  }
 ],
 "metadata": {
  "kernelspec": {
   "display_name": "Python 3",
   "language": "python",
   "name": "python3"
  },
  "language_info": {
   "codemirror_mode": {
    "name": "ipython",
    "version": 3
   },
   "file_extension": ".py",
   "mimetype": "text/x-python",
   "name": "python",
   "nbconvert_exporter": "python",
   "pygments_lexer": "ipython3",
   "version": "3.7.4"
  }
 },
 "nbformat": 4,
 "nbformat_minor": 4
}
