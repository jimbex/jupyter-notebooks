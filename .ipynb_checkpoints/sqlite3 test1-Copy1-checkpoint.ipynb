{
 "cells": [
  {
   "cell_type": "code",
   "execution_count": 3,
   "metadata": {},
   "outputs": [
    {
     "ename": "TypeError",
     "evalue": "function takes at least 1 argument (0 given)",
     "output_type": "error",
     "traceback": [
      "\u001b[1;31m---------------------------------------------------------------------------\u001b[0m",
      "\u001b[1;31mTypeError\u001b[0m                                 Traceback (most recent call last)",
      "\u001b[1;32m<ipython-input-3-a589ffabebdb>\u001b[0m in \u001b[0;36m<module>\u001b[1;34m\u001b[0m\n\u001b[0;32m      3\u001b[0m \u001b[0mcur\u001b[0m \u001b[1;33m=\u001b[0m \u001b[0mconn\u001b[0m\u001b[1;33m.\u001b[0m\u001b[0mcursor\u001b[0m\u001b[1;33m(\u001b[0m\u001b[1;33m)\u001b[0m\u001b[1;33m\u001b[0m\u001b[1;33m\u001b[0m\u001b[0m\n\u001b[0;32m      4\u001b[0m \u001b[1;33m\u001b[0m\u001b[0m\n\u001b[1;32m----> 5\u001b[1;33m \u001b[0mcur\u001b[0m\u001b[1;33m.\u001b[0m\u001b[0mexecute\u001b[0m\u001b[1;33m(\u001b[0m\u001b[1;33m)\u001b[0m\u001b[1;33m\u001b[0m\u001b[1;33m\u001b[0m\u001b[0m\n\u001b[0m\u001b[0;32m      6\u001b[0m \u001b[0mcur\u001b[0m\u001b[1;33m.\u001b[0m\u001b[0mcommit\u001b[0m\u001b[1;33m(\u001b[0m\u001b[1;33m)\u001b[0m\u001b[1;33m\u001b[0m\u001b[1;33m\u001b[0m\u001b[0m\n",
      "\u001b[1;31mTypeError\u001b[0m: function takes at least 1 argument (0 given)"
     ]
    }
   ],
   "source": [
    "import sqlite3\n",
    "conn = sqlite3.connect('class1.sqlite')\n",
    "cur = conn.cursor()\n",
    "\n",
    "cur.execute()\n",
    "conn.commit()\n"
   ]
  },
  {
   "cell_type": "code",
   "execution_count": 6,
   "metadata": {},
   "outputs": [],
   "source": [
    "import sqlite3\n",
    "conn = sqlite3.connect('class1.sqlite')\n",
    "cur = conn.cursor()\n",
    "\n",
    "cur.execute('Create Table class1(Name varchar(50), grade int)')\n",
    "conn.commit()"
   ]
  },
  {
   "cell_type": "code",
   "execution_count": 7,
   "metadata": {},
   "outputs": [],
   "source": [
    "names = ['basit', 'willy', 'philip', 'mike', 'domo']\n",
    "grades = [100, 30, 40, 60, 20]"
   ]
  },
  {
   "cell_type": "code",
   "execution_count": 5,
   "metadata": {},
   "outputs": [],
   "source": [
    "import sqlite3\n",
    "conn = sqlite3.connect('C:\\\\Users\\\\USER\\\\Desktop\\\\class1.sqlite')\n",
    "cur = conn.cursor()\n",
    "\n",
    "names = ['basit', 'willy', 'philip', 'mike', 'domo']\n",
    "grades = [100, 30, 40, 60, 20]\n",
    "y = 0\n",
    "for y in range(5):\n",
    "    cur.execute('''Insert into class1(Name, grade) \n",
    "                values(?, ?)''', (names[y], grades[y]))\n",
    "    y+=1\n",
    "conn.commit()"
   ]
  },
  {
   "cell_type": "code",
   "execution_count": 6,
   "metadata": {},
   "outputs": [
    {
     "name": "stdout",
     "output_type": "stream",
     "text": [
      "{'basit': 100, 'willy': 30, 'philip': 40, 'mike': 60, 'domo': 20}\n"
     ]
    }
   ],
   "source": [
    "import sqlite3\n",
    "conn = sqlite3.connect('C:\\\\Users\\\\USER\\\\Desktop\\\\class1.sqlite')\n",
    "cur = conn.cursor()\n",
    "\n",
    "y = {}\n",
    "names = ['basit', 'willy', 'philip', 'mike', 'domo']\n",
    "grades = [100, 30, 40, 60, 20]\n",
    "x =0\n",
    "for x in range(5):\n",
    "    y[names[x]] = grades[x]\n",
    "    x+=1\n",
    "print(y)\n"
   ]
  },
  {
   "cell_type": "code",
   "execution_count": 11,
   "metadata": {},
   "outputs": [],
   "source": [
    "import sqlite3\n",
    "conn = sqlite3.connect('C:\\\\Users\\\\USER\\\\Desktop\\\\class1.sqlite')\n",
    "cur = conn.cursor()\n",
    "\n",
    "x= 0\n",
    "for a, b in y.items():\n",
    "    cur.execute('''Insert into class1(Name, grade) \n",
    "                values(?, ?)''', (a, b))\n",
    "\n",
    "conn.commit()\n",
    "    "
   ]
  }
 ],
 "metadata": {
  "kernelspec": {
   "display_name": "Python 3",
   "language": "python",
   "name": "python3"
  },
  "language_info": {
   "codemirror_mode": {
    "name": "ipython",
    "version": 3
   },
   "file_extension": ".py",
   "mimetype": "text/x-python",
   "name": "python",
   "nbconvert_exporter": "python",
   "pygments_lexer": "ipython3",
   "version": "3.7.4"
  }
 },
 "nbformat": 4,
 "nbformat_minor": 4
}
