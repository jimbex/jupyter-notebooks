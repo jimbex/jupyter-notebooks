{
 "cells": [
  {
   "cell_type": "code",
   "execution_count": 45,
   "metadata": {},
   "outputs": [
    {
     "name": "stdout",
     "output_type": "stream",
     "text": [
      "this is king the legend i am the legend \n"
     ]
    }
   ],
   "source": [
    "file = open('class.txt')\n",
    "print (file.read())\n",
    "file.close()"
   ]
  },
  {
   "cell_type": "code",
   "execution_count": 20,
   "metadata": {},
   "outputs": [],
   "source": [
    "sentence = 'this is king the legend'\n",
    "file = open('class.txt', 'w')\n",
    "file.write(sentence)\n",
    "file.close()"
   ]
  },
  {
   "cell_type": "code",
   "execution_count": 25,
   "metadata": {},
   "outputs": [
    {
     "data": {
      "text/plain": [
       "35"
      ]
     },
     "execution_count": 25,
     "metadata": {},
     "output_type": "execute_result"
    }
   ],
   "source": [
    "sentence  =  'bob marley the greatest of all time'\n",
    "file = open('class2.txt', 'w')\n",
    "file.write(sentence)\n"
   ]
  },
  {
   "cell_type": "code",
   "execution_count": 47,
   "metadata": {},
   "outputs": [
    {
     "name": "stdout",
     "output_type": "stream",
     "text": [
      "\n",
      "ramesh@gmail.com\n",
      "George@outlook.com\n",
      "yadav@outlook.com\n",
      "Shweth@gmail.com\n",
      "parual@yahoo.com\n",
      "\n"
     ]
    }
   ],
   "source": [
    "file = open('class2.txt')\n",
    "print (file.read())\n"
   ]
  },
  {
   "cell_type": "code",
   "execution_count": 50,
   "metadata": {},
   "outputs": [
    {
     "data": {
      "text/plain": [
       "17"
      ]
     },
     "execution_count": 50,
     "metadata": {},
     "output_type": "execute_result"
    }
   ],
   "source": [
    "sentence = ' i am the legend '\n",
    "file = open('C:\\\\Users\\\\USER\\\\Desktop\\\\class.txt','w')\n",
    "file.write(sentence)\n"
   ]
  },
  {
   "cell_type": "code",
   "execution_count": 53,
   "metadata": {},
   "outputs": [
    {
     "name": "stdout",
     "output_type": "stream",
     "text": [
      " i am the legend \n"
     ]
    }
   ],
   "source": [
    "file = open('C:\\\\Users\\\\USER\\\\Desktop\\\\class.txt')\n",
    "print (file.read())\n",
    "    "
   ]
  },
  {
   "cell_type": "code",
   "execution_count": 54,
   "metadata": {},
   "outputs": [
    {
     "data": {
      "text/plain": [
       "89"
      ]
     },
     "execution_count": 54,
     "metadata": {},
     "output_type": "execute_result"
    }
   ],
   "source": [
    "sentence = '''\n",
    "ramesh@gmail.com\n",
    "George@outlook.com\n",
    "yadav@outlook.com\n",
    "Shweth@gmail.com\n",
    "parual@yahoo.com\n",
    "'''\n",
    "file = open('C:\\\\Users\\\\USER\\\\Desktop\\\\class.txt', 'w')\n",
    "file.write(sentence)"
   ]
  },
  {
   "cell_type": "code",
   "execution_count": 55,
   "metadata": {},
   "outputs": [
    {
     "name": "stdout",
     "output_type": "stream",
     "text": [
      "ramesh@gmail.com\n",
      "Shweth@gmail.com\n"
     ]
    }
   ],
   "source": [
    "file = open('C:\\\\Users\\\\USER\\\\Desktop\\\\class.txt', 'r')\n",
    "var = file.readlines()\n",
    "for line in var:\n",
    "    line = line.strip()\n",
    "    if '@gmail'in line:\n",
    "        print(line)"
   ]
  },
  {
   "cell_type": "code",
   "execution_count": null,
   "metadata": {},
   "outputs": [],
   "source": []
  }
 ],
 "metadata": {
  "kernelspec": {
   "display_name": "Python 3",
   "language": "python",
   "name": "python3"
  },
  "language_info": {
   "codemirror_mode": {
    "name": "ipython",
    "version": 3
   },
   "file_extension": ".py",
   "mimetype": "text/x-python",
   "name": "python",
   "nbconvert_exporter": "python",
   "pygments_lexer": "ipython3",
   "version": "3.7.4"
  }
 },
 "nbformat": 4,
 "nbformat_minor": 4
}
