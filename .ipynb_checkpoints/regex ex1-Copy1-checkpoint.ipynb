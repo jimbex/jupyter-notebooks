{
 "cells": [
  {
   "cell_type": "code",
   "execution_count": 9,
   "metadata": {},
   "outputs": [
    {
     "name": "stdout",
     "output_type": "stream",
     "text": [
      "[': Apache/2.4.18 (Ubuntu)', ': Sat, 13 May 2017 11:22:22 GMT', ': \"a7-54f6609245537\"', ': bytes', ': 167', ': max-age=0, no-cache, no-store, must-revalidate', ': no-cache', ': Wed, 11 Jan 1984 05:00:00 GMT', ': close', ': text/plain']\n"
     ]
    }
   ],
   "source": [
    "import re\n",
    "file = open('dump1.txt', 'r')\n",
    "files = file.read()\n",
    "data = []\n",
    "\n",
    "b = re.findall(': .+', files)\n",
    "\n",
    "for i in b:\n",
    "    data.append(i)\n",
    "    \n",
    "print(data)\n"
   ]
  },
  {
   "cell_type": "code",
   "execution_count": 5,
   "metadata": {},
   "outputs": [
    {
     "name": "stdout",
     "output_type": "stream",
     "text": [
      "['Server', 'Modified', 'ETag', 'Ranges', 'Length', 'Control', 'Pragma', 'Expires', 'Connection', 'Type']\n"
     ]
    }
   ],
   "source": [
    "b = []\n",
    "for x in data:\n",
    "    b.append(x[0:-1])\n",
    "print(b)"
   ]
  },
  {
   "cell_type": "code",
   "execution_count": null,
   "metadata": {},
   "outputs": [],
   "source": []
  },
  {
   "cell_type": "code",
   "execution_count": null,
   "metadata": {},
   "outputs": [],
   "source": []
  }
 ],
 "metadata": {
  "kernelspec": {
   "display_name": "Python 3",
   "language": "python",
   "name": "python3"
  },
  "language_info": {
   "codemirror_mode": {
    "name": "ipython",
    "version": 3
   },
   "file_extension": ".py",
   "mimetype": "text/x-python",
   "name": "python",
   "nbconvert_exporter": "python",
   "pygments_lexer": "ipython3",
   "version": "3.7.4"
  }
 },
 "nbformat": 4,
 "nbformat_minor": 4
}
