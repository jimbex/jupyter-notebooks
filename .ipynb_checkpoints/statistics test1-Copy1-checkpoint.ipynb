{
 "cells": [
  {
   "cell_type": "code",
   "execution_count": 1,
   "metadata": {},
   "outputs": [],
   "source": [
    "import numpy as np\n",
    "import pandas as pd\n",
    "from scipy import stats\n",
    "from sklearn.model_selection import ShuffleSplit\n",
    "\n",
    "data = pd.read_csv('C:\\\\Users\\\\USER\\\\Downloads\\\\Ames_Housing_Sales.csv')\n",
    "pd.set_option('display.max_columns', None)\n",
    "df = data.copy()"
   ]
  },
  {
   "cell_type": "code",
   "execution_count": null,
   "metadata": {},
   "outputs": [],
   "source": [
    "lit = list(data['Neighborhood'].unique()"
   ]
  },
  {
   "cell_type": "code",
   "execution_count": 63,
   "metadata": {},
   "outputs": [],
   "source": [
    "y = 1\n",
    "for x in lit:\n",
    "    df = df.replace(to_replace = x, value = y)\n",
    "    y += 1\n",
    "    "
   ]
  },
  {
   "cell_type": "code",
   "execution_count": 71,
   "metadata": {},
   "outputs": [
    {
     "data": {
      "image/png": "[encoded data removed]",
      "text/plain": [
       "<Figure size 432x288 with 1 Axes>"
      ]
     },
     "metadata": {
      "needs_background": "light"
     },
     "output_type": "display_data"
    }
   ],
   "source": [
    "import matplotlib.pyplot as plt\n",
    "x = df['Neighborhood']\n",
    "y = df['SalePrice']\n",
    "\n",
    "slope, intercept, r, p, std_err = stats.linregress(x, y)\n",
    "\n",
    "def mymodel(x):\n",
    "    slope * x + intercept\n",
    "\n",
    "line = list(map(mymodel, x))\n",
    "\n",
    "plt.scatter(x, y)\n",
    "plt.plot(x, line)\n",
    "plt.show()"
   ]
  },
  {
   "cell_type": "code",
   "execution_count": 14,
   "metadata": {},
   "outputs": [
    {
     "data": {
      "text/plain": [
       "'SalePrice'"
      ]
     },
     "execution_count": 14,
     "metadata": {},
     "output_type": "execute_result"
    }
   ],
   "source": [
    "mask = data.dtypes != np.object\n",
    "num = data.columns[mask]\n",
    "num = list(num)\n",
    "sale = num.copy()\n",
    "num.pop()"
   ]
  },
  {
   "cell_type": "code",
   "execution_count": 29,
   "metadata": {},
   "outputs": [
    {
     "data": {
      "text/plain": [
       "LinearRegression()"
      ]
     },
     "execution_count": 29,
     "metadata": {},
     "output_type": "execute_result"
    }
   ],
   "source": [
    "from sklearn import linear_model\n",
    "train_x = data[num][300:]\n",
    "train_y = data[sale]['SalePrice'][300:]\n",
    "\n",
    "test_x = data[num][:300]\n",
    "test_y = data[sale]['SalePrice'][:300]\n",
    "\n",
    "regr = linear_model.LinearRegression()\n",
    "regr.fit(train_x, train_y)"
   ]
  },
  {
   "cell_type": "code",
   "execution_count": 43,
   "metadata": {},
   "outputs": [
    {
     "name": "stdout",
     "output_type": "stream",
     "text": [
      "[ 2.56081148e+01  2.45745004e+01  6.88969148e+01 -8.93798834e+03\n",
      "  1.06795104e+01 -1.17118435e+00  8.37325562e+03  1.36407146e+03\n",
      " -2.18275486e+00  1.87549982e+01  3.83176562e+03  4.74369034e+03\n",
      " -2.45575053e+00  1.77329234e+04 -6.63674957e+01  2.23284477e+01\n",
      " -2.92152613e+03 -2.25964540e+04  4.13037724e-01 -1.43986552e+02\n",
      " -2.78541674e+01 -1.98102924e+02  3.42880558e+01 -1.26794685e-01\n",
      " -1.97069195e+02 -1.05029150e+01  4.82739560e+03  1.84225531e+04\n",
      " -2.10147217e+01  4.52635814e+01  5.39370162e+03  7.32557122e+00\n",
      "  3.27029304e+01  3.49315066e+02  1.03181846e+02 -8.45980898e+02]\n",
      "[108342.48246596] 89500.0\n"
     ]
    }
   ],
   "source": [
    "c = test_x.loc[219]\n",
    "\n",
    "#predict the CO2 emission of a car where the weight is 2300kg, and the volume is 1300cm3:\n",
    "predictedCO2 = regr.predict([c])\n",
    "print(regr.coef_)\n",
    "\n",
    "print(predictedCO2, data['SalePrice'].loc[219])"
   ]
  },
  {
   "cell_type": "code",
   "execution_count": 32,
   "metadata": {},
   "outputs": [
    {
     "data": {
      "text/plain": [
       "1stFlrSF          1328\n",
       "2ndFlrSF             0\n",
       "3SsnPorch            0\n",
       "Alley             None\n",
       "BedroomAbvGr         2\n",
       "                 ...  \n",
       "WoodDeckSF           0\n",
       "YearBuilt         1959\n",
       "YearRemodAdd      1959\n",
       "YrSold            2007\n",
       "SalePrice       170000\n",
       "Name: 40, Length: 80, dtype: object"
      ]
     },
     "execution_count": 32,
     "metadata": {},
     "output_type": "execute_result"
    }
   ],
   "source": [
    "data.loc[40]"
   ]
  }
 ],
 "metadata": {
  "kernelspec": {
   "display_name": "Python 3",
   "language": "python",
   "name": "python3"
  },
  "language_info": {
   "codemirror_mode": {
    "name": "ipython",
    "version": 3
   },
   "file_extension": ".py",
   "mimetype": "text/x-python",
   "name": "python",
   "nbconvert_exporter": "python",
   "pygments_lexer": "ipython3",
   "version": "3.7.4"
  }
 },
 "nbformat": 4,
 "nbformat_minor": 4
}
