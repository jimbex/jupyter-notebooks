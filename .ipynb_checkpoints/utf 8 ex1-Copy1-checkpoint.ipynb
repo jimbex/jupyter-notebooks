{
 "cells": [
  {
   "cell_type": "code",
   "execution_count": 45,
   "metadata": {},
   "outputs": [],
   "source": [
    "import random\n",
    "temp = random.randrange(0,40)\n",
    "its_hot = range(30,40)\n",
    "its_cold = range(0,10)\n",
    "\n",
    "if temp in its_hot:\n",
    "    print(f\"the temperature is {temp} degrees, \" , \"it is a hot day, take cold water\")\n",
    "    \n",
    "elif temp in its_cold:\n",
    "    print(f\"the temperature is {temp} degrees, \" ,\"its a cold day, wear your sweater\")\n"
   ]
  },
  {
   "cell_type": "code",
   "execution_count": 35,
   "metadata": {},
   "outputs": [],
   "source": [
    "from datetime import datetime as d\n",
    "time = d.now()\n",
    "cur = time.strftime(\"%H:%M:%S\")\n"
   ]
  },
  {
   "cell_type": "code",
   "execution_count": 2,
   "metadata": {},
   "outputs": [
    {
     "name": "stdout",
     "output_type": "stream",
     "text": [
      "Enter ur age: 12\n",
      "You are underaged, You are not eligible to vote\n"
     ]
    }
   ],
   "source": [
    "age = int(input('Enter ur age: '))\n",
    "\n",
    "if age < 18:\n",
    "    print(\"You are underaged, You are not eligible to vote\")\n",
    "elif age >= 18:\n",
    "    print(\"You are eligible to vote\")\n",
    "    "
   ]
  },
  {
   "cell_type": "code",
   "execution_count": 3,
   "metadata": {},
   "outputs": [
    {
     "name": "stdout",
     "output_type": "stream",
     "text": [
      "You are eligible for loan\n"
     ]
    }
   ],
   "source": [
    "high_income = True\n",
    "low_income = False\n",
    "good_credit = True\n",
    "Bad_credit = False\n",
    "\n",
    "if high_income and good_credit:\n",
    "    print(\"You are eligible for loan\")\n",
    "else:\n",
    "    print(\"You are not eligible\")"
   ]
  },
  {
   "cell_type": "code",
   "execution_count": 7,
   "metadata": {},
   "outputs": [
    {
     "name": "stdout",
     "output_type": "stream",
     "text": [
      "Enter your name: basit\n",
      "Enter your favourite color: blue\n",
      "Your name is basit  and your favourite color is blue\n"
     ]
    }
   ],
   "source": [
    "name = input(\"Enter your name: \")\n",
    "color = input(\"Enter your favourite color: \")\n",
    "\n",
    "print(f\"Your name is {name} and your favourite color is {color}\" )"
   ]
  },
  {
   "cell_type": "code",
   "execution_count": 12,
   "metadata": {},
   "outputs": [
    {
     "name": "stdout",
     "output_type": "stream",
     "text": [
      "d\n"
     ]
    }
   ],
   "source": [
    "print(chr(100))"
   ]
  },
  {
   "cell_type": "code",
   "execution_count": null,
   "metadata": {},
   "outputs": [],
   "source": []
  },
  {
   "cell_type": "code",
   "execution_count": null,
   "metadata": {},
   "outputs": [],
   "source": []
  },
  {
   "cell_type": "code",
   "execution_count": 23,
   "metadata": {},
   "outputs": [
    {
     "name": "stdout",
     "output_type": "stream",
     "text": [
      "basit\n",
      "is\n",
      "good\n"
     ]
    }
   ],
   "source": [
    "print(\"basit\\nis\\ngood\")\n",
    "    "
   ]
  },
  {
   "cell_type": "code",
   "execution_count": null,
   "metadata": {},
   "outputs": [],
   "source": []
  }
 ],
 "metadata": {
  "kernelspec": {
   "display_name": "Python 3",
   "language": "python",
   "name": "python3"
  },
  "language_info": {
   "codemirror_mode": {
    "name": "ipython",
    "version": 3
   },
   "file_extension": ".py",
   "mimetype": "text/x-python",
   "name": "python",
   "nbconvert_exporter": "python",
   "pygments_lexer": "ipython3",
   "version": "3.7.4"
  }
 },
 "nbformat": 4,
 "nbformat_minor": 4
}
